{
 "cells": [
  {
   "cell_type": "markdown",
   "id": "37462892-54e6-4eeb-8f42-de0581c74b4e",
   "metadata": {},
   "source": [
    "# Leave-one-compound-out analysis"
   ]
  },
  {
   "cell_type": "code",
   "execution_count": 1,
   "id": "be3521d9-e291-4f2c-9819-220c73d93492",
   "metadata": {},
   "outputs": [],
   "source": [
    "from utils import LOCODataLoader, LOCOPlotter"
   ]
  },
  {
   "cell_type": "code",
   "execution_count": null,
   "id": "643d1735-1de0-4410-97c1-0c55d6d74d9d",
   "metadata": {},
   "outputs": [],
   "source": [
    "loader = LOCODataLoader()\n",
    "loader.load_files()"
   ]
  },
  {
   "cell_type": "code",
   "execution_count": null,
   "id": "8af37f98-31ab-4804-871a-dcfcb4a70383",
   "metadata": {},
   "outputs": [],
   "source": [
    "plotter = LOCOPlotter(loader)"
   ]
  },
  {
   "cell_type": "code",
   "execution_count": null,
   "id": "11b6ab64-4ee2-4d1c-b2b9-749a875bc80c",
   "metadata": {},
   "outputs": [],
   "source": [
    "plotter.plot_accuracy()"
   ]
  },
  {
   "cell_type": "code",
   "execution_count": null,
   "id": "15b3ee5f-d100-49cc-b75e-a9c533c41d96",
   "metadata": {},
   "outputs": [],
   "source": [
    "plotter.plot_moa_predictions()"
   ]
  },
  {
   "cell_type": "code",
   "execution_count": null,
   "id": "b78085c8-d72c-448a-8c59-4f1b3b9c9142",
   "metadata": {},
   "outputs": [],
   "source": [
    "plotter.plot_compound_predictions(compounds=['Avibactam', 'Aztreonam', 'PenicillinG', 'Ciprofloxacin', 'Chloramphenicol', 'Cefsulodin'])"
   ]
  },
  {
   "cell_type": "code",
   "execution_count": null,
   "id": "fe193597-103a-433c-a844-96d1fd1569a5",
   "metadata": {},
   "outputs": [],
   "source": [
    "plotter.plot_prediction_matrix()"
   ]
  },
  {
   "cell_type": "code",
   "execution_count": null,
   "id": "b4b16b7e-e184-4cb3-9bf6-b5640245f88f",
   "metadata": {},
   "outputs": [],
   "source": []
  }
 ],
 "metadata": {
  "kernelspec": {
   "display_name": "Python 3 (ipykernel)",
   "language": "python",
   "name": "python3"
  },
  "language_info": {
   "codemirror_mode": {
    "name": "ipython",
    "version": 3
   },
   "file_extension": ".py",
   "mimetype": "text/x-python",
   "name": "python",
   "nbconvert_exporter": "python",
   "pygments_lexer": "ipython3",
   "version": "3.9.19"
  }
 },
 "nbformat": 4,
 "nbformat_minor": 5
}
